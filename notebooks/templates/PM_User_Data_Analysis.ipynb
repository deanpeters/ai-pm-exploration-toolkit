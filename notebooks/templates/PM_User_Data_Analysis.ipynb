{
  "cells": [
    {
      "cell_type": "markdown",
      "metadata": {},
      "source": [
        "# \ud83d\udc65 User Data Analysis for Product Managers\n",
        "\n",
        "Analyze user behavior and engagement metrics to inform product decisions.\n"
      ]
    },
    {
      "cell_type": "code",
      "execution_count": null,
      "metadata": {},
      "source": [
        "# Import libraries\n",
        "import pandas as pd\n",
        "import matplotlib.pyplot as plt\n",
        "import seaborn as sns\n",
        "import sys\n",
        "\n",
        "# Add AI PM Toolkit\n",
        "sys.path.append('../shared')\n",
        "from data_generator import generate_sample_data\n",
        "\n",
        "print('\ud83d\udc65 User Data Analysis Environment Ready!')"
      ]
    },
    {
      "cell_type": "markdown",
      "metadata": {},
      "source": [
        "## Generate Sample User Data\n",
        "\n",
        "Create realistic user data for analysis:"
      ]
    },
    {
      "cell_type": "code",
      "execution_count": null,
      "metadata": {},
      "source": [
        "# Generate user personas\n",
        "result = generate_sample_data(\n",
        "    experience_type='learn_and_do',\n",
        "    working_dir='../',\n",
        "    count=100,\n",
        "    persona_type='b2c_consumer'\n",
        ")\n",
        "\n",
        "if result['success']:\n",
        "    print(f'\u2705 Generated {result[\"personas_generated\"]} user personas')\n",
        "    \n",
        "    # Load the generated data\n",
        "    personas_df = pd.DataFrame(result['personas'])\n",
        "    print(f'\ud83d\udcca Dataset shape: {personas_df.shape}')\n",
        "    print('\\nSample data:')\n",
        "    print(personas_df.head())\n",
        "else:\n",
        "    print(f'\u274c Data generation failed: {result.get(\"error\")}')"
      ]
    }
  ],
  "metadata": {
    "kernelspec": {
      "display_name": "Python 3",
      "language": "python",
      "name": "python3"
    }
  },
  "nbformat": 4,
  "nbformat_minor": 4
}