{
  "cells": [
    {
      "cell_type": "markdown",
      "metadata": {},
      "source": [
        "# \ud83d\udcca Product Manager Market Research Template\n",
        "\n",
        "This notebook template helps PMs conduct data-driven market research using the AI PM Toolkit.\n",
        "\n",
        "## \ud83c\udfaf Use Cases\n",
        "- Competitor financial analysis\n",
        "- Market trend identification\n",
        "- Industry benchmarking\n",
        "- Investment thesis validation\n"
      ]
    },
    {
      "cell_type": "code",
      "execution_count": null,
      "metadata": {},
      "source": [
        "# Import required libraries\n",
        "import pandas as pd\n",
        "import matplotlib.pyplot as plt\n",
        "import seaborn as sns\n",
        "import sys\n",
        "import os\n",
        "\n",
        "# Add AI PM Toolkit to path\n",
        "sys.path.append('../shared')\n",
        "from market_research import research_company_data\n",
        "\n",
        "# Configure plotting\n",
        "plt.style.use('seaborn-v0_8')\n",
        "sns.set_palette('husl')\n",
        "\n",
        "print('\u2705 AI PM Market Research Environment Ready!')"
      ]
    },
    {
      "cell_type": "markdown",
      "metadata": {},
      "source": [
        "## \ud83d\udcc8 Company Analysis\n",
        "\n",
        "Research a specific company using real financial data:"
      ]
    },
    {
      "cell_type": "code",
      "execution_count": null,
      "metadata": {},
      "source": [
        "# Configure company research\n",
        "TICKER = 'AAPL'  # Change this to any public company ticker\n",
        "COMPANY_NAME = 'Apple Inc.'\n",
        "\n",
        "# Conduct research\n",
        "result = research_company_data(\n",
        "    ticker=TICKER,\n",
        "    company_name=COMPANY_NAME,\n",
        "    experience_type='learn_and_do',\n",
        "    working_dir='../'\n",
        ")\n",
        "\n",
        "if result['success']:\n",
        "    print(f'\u2705 Research completed for {COMPANY_NAME}')\n",
        "    \n",
        "    # Extract data for analysis\n",
        "    company_info = result['results']['company_info']\n",
        "    financials = result['results']['financials']\n",
        "    \n",
        "    # Display key metrics\n",
        "    print(f'Market Cap: ${financials.get(\"market_cap\", 0):,}')\n",
        "    print(f'P/E Ratio: {financials.get(\"pe_ratio\", \"N/A\")}')\n",
        "    print(f'Industry: {company_info.get(\"industry\", \"Unknown\")}')\n",
        "else:\n",
        "    print(f'\u274c Research failed: {result.get(\"error\")}')"
      ]
    }
  ],
  "metadata": {
    "kernelspec": {
      "display_name": "Python 3",
      "language": "python",
      "name": "python3"
    },
    "language_info": {
      "name": "python",
      "version": "3.8.0"
    }
  },
  "nbformat": 4,
  "nbformat_minor": 4
}